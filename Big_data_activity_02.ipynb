{
 "cells": [
  {
   "cell_type": "markdown",
   "id": "c28caf06",
   "metadata": {},
   "source": [
    "# Q no: 01\n",
    "Write a Python language program that can count the word in the text file."
   ]
  },
  {
   "cell_type": "code",
   "execution_count": 25,
   "id": "9c2e0f30",
   "metadata": {},
   "outputs": [
    {
     "name": "stdout",
     "output_type": "stream",
     "text": [
      "The total word count is :\n",
      "21605\n",
      "\n",
      "Starting Time: 1667142895.6786163\n",
      "Starting Time: 1667142895.6876104\n",
      "\n",
      "Execution time: \n",
      "0.008994102478027344 sec\n"
     ]
    }
   ],
   "source": [
    "import time\n",
    "class WordCount:\n",
    "    data = ''\n",
    "    count = 0\n",
    "\n",
    "    def fileOpen(self, fname, mode):\n",
    "        with open(fname, mode) as f:\n",
    "            self.data = f.read()\n",
    "    \n",
    "    def countWord(self):\n",
    "        lst_data = self.data.split(' ')\n",
    "        for word in lst_data:\n",
    "            self.count += 1\n",
    "    \n",
    "    def getCountWords(self):\n",
    "        print(f'The total word count is :\\n{self.count}')\n",
    "\n",
    "if __name__ == \"__main__\":\n",
    "    # Starting time of ex after input\n",
    "    start = time.time()\n",
    "    \n",
    "    obj = WordCount()\n",
    "    obj.fileOpen('Data_file.txt', 'r')\n",
    "    obj.countWord()\n",
    "    obj.getCountWords()\n",
    "\n",
    "    # ending time of ex\n",
    "    end = time.time()\n",
    "\n",
    "    # get the execution time\n",
    "    elapsed_time = end - start\n",
    "    print(f'\\nStarting Time: {start}')\n",
    "    print(f'Starting Time: {end}')\n",
    "    print(f'\\nExecution time: \\n{elapsed_time} sec')"
   ]
  },
  {
   "cell_type": "markdown",
   "id": "df086585",
   "metadata": {},
   "source": [
    "# Qno: 02\n",
    "Write a Python language program that takes two inputsfrom user, first the name ofthetext file and second input number of instances (of the map function)that will run on the system."
   ]
  },
  {
   "cell_type": "code",
   "execution_count": 6,
   "id": "7797ac83",
   "metadata": {},
   "outputs": [
    {
     "name": "stdout",
     "output_type": "stream",
     "text": [
      "Enter filename to read :Data_file.txt\n",
      "Enter no of Map instances :1\n",
      "Total count is :2\n",
      "Execution time: 0.0019998550415039062 seconds\n",
      "Enter filename to read :Data_file.txt\n",
      "Enter no of Map instances :2\n",
      "Total count is :2\n",
      "Execution time: 0.0019986629486083984 seconds\n",
      "Enter filename to read :\n"
     ]
    }
   ],
   "source": [
    "import threading\n",
    "import time\n",
    "\n",
    "def countWord(dt, res_list):\n",
    "    wdict = {}\n",
    "    for word in dt:\n",
    "        word = word.lower()\n",
    "        if(wdict.get(word)):\n",
    "            wdict[word] += 1\n",
    "            continue\n",
    "\n",
    "        wdict[word] = 1\n",
    "    res_list.append(wdict)\n",
    "    return res_list\n",
    "    \n",
    "def fileOpen(fname, mode):\n",
    "    with open(fname, mode, encoding='utf8') as f:\n",
    "        data = f.read()\n",
    "    return data\n",
    "    \n",
    "def divide_chunks(l, n):\n",
    "    return [l[i:i + n] for i in range(0, len(l), n)]\n",
    "    \n",
    "def mergeResult(lst, fdic):\n",
    "    count = 0\n",
    "    for item in lst:\n",
    "        for key, value in item.items():\n",
    "            if(fdic.get(key)):\n",
    "                fdic[key] += value\n",
    "                count += value\n",
    "                continue\n",
    "            \n",
    "            fdic[key] = value\n",
    "            count += value\n",
    "    return fdic, count            \n",
    "\n",
    "def main():\n",
    "    # Starting time of ex after input\n",
    "    st = time.time()\n",
    "\n",
    "    # Reading file content\n",
    "    data = fileOpen(fileName, mode).replace('\\n','').split(' ')\n",
    "    \n",
    "    length = len(data)\n",
    "    try:\n",
    "        chunk = length//instances\n",
    "    except ZeroDivisionError:\n",
    "        chunk = 1\n",
    "    divList = divide_chunks(data, chunk)\n",
    "    # print(f\"{len(divList)} instances created\")\n",
    "\n",
    "    # storing all threads\n",
    "    threads = list()\n",
    "    # for storing result\n",
    "    res_list = list()\n",
    "    # concat the result in one dict\n",
    "    fdic = dict()\n",
    "\n",
    "    for item in range(len(divList)):\n",
    "        try:\n",
    "            x = threading.Thread(target=countWord, name=f't{item}', args=(divList[item] ,res_list ,))\n",
    "            threads.append(x)\n",
    "            x.start()\n",
    "        except:\n",
    "            print(\"Error: unable to start thread\")\n",
    "\n",
    "    for index, thread in enumerate(threads):\n",
    "            thread.join()\n",
    "\n",
    "    # print(f'Result list is :{res_list}')\n",
    "\n",
    "    fdic, count = mergeResult(res_list, fdic)\n",
    "    print(f'Total count is :{count}')\n",
    "\n",
    "    # ending time of ex\n",
    "    et = time.time()\n",
    "\n",
    "    # get the execution time\n",
    "    elapsed_time = et - st\n",
    "    print(f'Execution time: {elapsed_time} seconds')\n",
    "\n",
    "    return elapsed_time, instances\n",
    "\n",
    "if __name__ == \"__main__\":\n",
    "    etList = list()\n",
    "    insList = list()\n",
    "    while True:\n",
    "        fileName = input(\"Enter filename to read :\")\n",
    "        if(fileName == ''):\n",
    "            break\n",
    "\n",
    "        mode ='r'\n",
    "        instances = int(input(\"Enter no of Map instances :\"))\n",
    "        et, ins = main()\n",
    "        etList.append(et)\n",
    "        insList.append(ins)\n",
    "    \n",
    "    with open('Data_file.txt', 'w') as f:\n",
    "        f.write(str([etList, insList]))\n",
    "        f.close()"
   ]
  },
  {
   "cell_type": "code",
   "execution_count": 8,
   "id": "dfcb7909",
   "metadata": {},
   "outputs": [
    {
     "data": {
      "text/plain": [
       "Text(0.5, 0, 'Execution time')"
      ]
     },
     "execution_count": 8,
     "metadata": {},
     "output_type": "execute_result"
    },
    {
     "data": {
      "image/png": "[encoded data removed]",
      "text/plain": [
       "<Figure size 432x288 with 1 Axes>"
      ]
     },
     "metadata": {
      "needs_background": "light"
     },
     "output_type": "display_data"
    }
   ],
   "source": [
    "import matplotlib.pyplot as plt\n",
    "import json\n",
    "\n",
    "with open('graph_file.txt', 'r') as f:\n",
    "    res = f.read()\n",
    "    f.close()\n",
    "res = json.loads(res)\n",
    "\n",
    "plt.plot(res[0], res[1])\n",
    "plt.ylabel('Instances')\n",
    "plt.xlabel('Execution time')"
   ]
  }
 ],
 "metadata": {
  "kernelspec": {
   "display_name": "Python 3 (ipykernel)",
   "language": "python",
   "name": "python3"
  },
  "language_info": {
   "codemirror_mode": {
    "name": "ipython",
    "version": 3
   },
   "file_extension": ".py",
   "mimetype": "text/x-python",
   "name": "python",
   "nbconvert_exporter": "python",
   "pygments_lexer": "ipython3",
   "version": "3.9.12"
  }
 },
 "nbformat": 4,
 "nbformat_minor": 5
}
